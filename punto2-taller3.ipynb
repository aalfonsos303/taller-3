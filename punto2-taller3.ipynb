{
 "cells": [
  {
   "cell_type": "markdown",
   "metadata": {},
   "source": []
  },
  {
   "attachments": {},
   "cell_type": "markdown",
   "metadata": {},
   "source": [
    "### Punto 2\n"
   ]
  },
  {
   "cell_type": "code",
   "execution_count": 37,
   "metadata": {},
   "outputs": [],
   "source": [
    "import numpy as np"
   ]
  },
  {
   "cell_type": "code",
   "execution_count": 38,
   "metadata": {},
   "outputs": [],
   "source": [
    "class Evento:\n",
    "    def __init__(self,to,te,se):\n",
    "        self.tiempoEvento=to\n",
    "        self.tipoEvento=te\n",
    "        self.servidor=se"
   ]
  },
  {
   "cell_type": "code",
   "execution_count": 39,
   "metadata": {},
   "outputs": [],
   "source": [
    "estado=[6,1,1,1,1,0,0,0,0,0,0,0]"
   ]
  },
  {
   "cell_type": "code",
   "execution_count": 40,
   "metadata": {},
   "outputs": [],
   "source": [
    "listaEventos=[]"
   ]
  },
  {
   "cell_type": "code",
   "execution_count": 41,
   "metadata": {},
   "outputs": [],
   "source": [
    "reloj=0.0\n",
    "numLLegadas=1000000\n",
    "n=0\n",
    "sumaSalidas1=0.0\n",
    "ultimaSalida1=0.0\n",
    "n1=0\n",
    "sumaSalidas=0.0\n",
    "ultimaSalida=0.0\n",
    "sumaElementos1=0.0\n",
    "sumaElementos2=0.0\n",
    "tentrada=[]\n",
    "nelementos=estado[0]+estado[1]+estado[2]+estado[3]+estado[4]+estado[5]\n",
    "for i in range(nelementos):\n",
    "    tentrada.append(0)\n",
    "sumatflujo=0"
   ]
  },
  {
   "cell_type": "code",
   "execution_count": 42,
   "metadata": {},
   "outputs": [],
   "source": [
    "while (n<numLLegadas):\n",
    "    \n",
    "    ##generar eventos\n",
    "    \n",
    "    #estación 1\n",
    "    if estado[1]==1 and estado[7]==0:\n",
    "        tllegada=np.random.exponential(4.5)\n",
    "        listaEventos.append(Evento(tllegada,1,1))\n",
    "        estado[7]=1\n",
    "        #print tllegada,  \"1 1\"\n",
    "        \n",
    "    if estado[2]==1 and estado[8]==0:\n",
    "        tllegada=np.random.exponential(4.5)\n",
    "        listaEventos.append(Evento(tllegada,1,2))\n",
    "        estado[8]=1\n",
    "        ##print tllegada,  \"1 2\"\n",
    "        \n",
    "    if estado[3]==1 and estado[9]==0:\n",
    "        tllegada=np.random.exponential(4.5)\n",
    "        listaEventos.append(Evento(tllegada,1,3))\n",
    "        estado[9]=1\n",
    "        ##print tllegada,  \"1 3\"\n",
    "        \n",
    "    #estación 2\n",
    "    if estado[5]==1 and estado[10]==0:\n",
    "        tllegada=np.random.exponential(3.5)\n",
    "        listaEventos.append(Evento(tllegada,2,1))\n",
    "        estado[10]=1\n",
    "        #print tllegada,  \"2 1\"\n",
    "        \n",
    "    if estado[6]==1 and estado[11]==0:\n",
    "        tllegada=np.random.exponential(3.5)\n",
    "        listaEventos.append(Evento(tllegada,2,2))\n",
    "        estado[11]=1\n",
    "        #print tllegada,  \"2 2\"\n",
    "        \n",
    "    for i in range (len(listaEventos)):\n",
    "        listaEventos[i].tiempoEvento=listaEventos[i].tiempoEvento+reloj\n",
    "        \n",
    "    index=-1\n",
    "    minValue=float(\"inf\")\n",
    "    for i in range (len(listaEventos)):\n",
    "        if listaEventos[i].tiempoEvento<minValue:\n",
    "            minValue=listaEventos[i].tiempoEvento\n",
    "            index=i\n",
    "            \n",
    "    eventoProximo=listaEventos.pop(index)\n",
    "    \n",
    "    sumaElementos1+=(estado[0]+estado[1]+estado[2]+estado[3])*(eventoProximo.tiempoEvento-reloj)\n",
    "    sumaElementos2+=(estado[4]+estado[5]+estado[6])*(eventoProximo.tiempoEvento-reloj)\n",
    "    \n",
    "    tipoDeEvento=eventoProximo.tipoEvento\n",
    "    servidor=eventoProximo.servidor\n",
    "    \n",
    "    reloj=eventoProximo.tiempoEvento\n",
    "    \n",
    "    if tipoDeEvento==1:\n",
    "        if servidor==1:\n",
    "            if estado[0]>=1:\n",
    "                estado[0]-=1\n",
    "            else:\n",
    "                estado[1]=0\n",
    "            estado[7]=0\n",
    "        if servidor==2:\n",
    "            if estado [0]>=1:\n",
    "                estado[0]-=1\n",
    "            else:\n",
    "                estado[2]=0\n",
    "            estado[8]=0\n",
    "            \n",
    "        if servidor==3:\n",
    "            if estado [0]>=1:\n",
    "                estado[0]-=1\n",
    "            else:\n",
    "                estado[3]=0\n",
    "            estado[9]=0\n",
    "\n",
    "            \n",
    "        if estado[5]+estado[6]==0:\n",
    "            u=np.random.uniform(0,1)\n",
    "            if (u<=0.5):\n",
    "                estado[5]+=1\n",
    "            else:\n",
    "                estado[6]+=1\n",
    "        elif estado[5]==0:\n",
    "            estado[5]+=1\n",
    "        elif estado[6]==0:\n",
    "            estado[6]+=1\n",
    "        else:\n",
    "            estado[4]+=1\n",
    "        sumaSalidas1+=(reloj-ultimaSalida1)\n",
    "        ultimaSalida1=reloj\n",
    "        n1=n1+1\n",
    "        \n",
    "    if tipoDeEvento==2:\n",
    "        if servidor==1:\n",
    "            if estado [4]>=1:\n",
    "                estado [4]-=1\n",
    "            else:\n",
    "                estado [5]=0\n",
    "            estado[10]=0\n",
    "        if servidor==2:\n",
    "            if estado[4]>=1:\n",
    "                estado[4]-=1\n",
    "            else:\n",
    "                estado[6]=0\n",
    "            estado[11]=0\n",
    "            \n",
    "        if estado[1]+estado[2]+estado[3]==0:\n",
    "            u=np.random.choice([1,2,3])\n",
    "            estado[u]+=1\n",
    "        elif estado[1]+estado[2]==0:\n",
    "            u=np.random.choice([1,2])\n",
    "            estado[u]+=1\n",
    "        elif estado[2]+estado[3]==0:\n",
    "            u=np.random.choice([2,3])\n",
    "            estado[u]+=1\n",
    "        elif estado[1]+estado[3]==0:\n",
    "            u=np.random.choice([1,3])\n",
    "            estado[u]+=1     \n",
    "        elif estado[1]==0:\n",
    "            estado[1]+=1\n",
    "        elif estado[2]==0:\n",
    "            estado[2]+=1\n",
    "        elif estado[3]==0:\n",
    "            estado[3]+=1\n",
    "        else:\n",
    "            estado[0]+=1\n",
    "            \n",
    "        sumaSalidas+=(reloj-ultimaSalida)\n",
    "        tentrada.append(reloj)\n",
    "        sumatflujo+=(reloj-tentrada.pop(0))\n",
    "        ultimaSalida=reloj\n",
    "        n=n+1\n",
    "    \n",
    "    for i in range (len(listaEventos)):\n",
    "        listaEventos[i].tiempoEvento=listaEventos[i].tiempoEvento-reloj\n",
    "    \n",
    "   "
   ]
  },
  {
   "cell_type": "code",
   "execution_count": 43,
   "metadata": {},
   "outputs": [
    {
     "data": {
      "text/plain": [
       "1.8457315023944427"
      ]
     },
     "execution_count": 43,
     "metadata": {},
     "output_type": "execute_result"
    }
   ],
   "source": [
    "tes=sumaSalidas/(n*1.0)\n",
    "tes"
   ]
  },
  {
   "cell_type": "code",
   "execution_count": 44,
   "metadata": {},
   "outputs": [
    {
     "data": {
      "text/plain": [
       "18.457315023944428"
      ]
     },
     "execution_count": 44,
     "metadata": {},
     "output_type": "execute_result"
    }
   ],
   "source": [
    "nelementos*tes"
   ]
  },
  {
   "cell_type": "code",
   "execution_count": 45,
   "metadata": {},
   "outputs": [
    {
     "data": {
      "text/plain": [
       "1.8457214022781663"
      ]
     },
     "execution_count": 45,
     "metadata": {},
     "output_type": "execute_result"
    }
   ],
   "source": [
    "tes1=sumaSalidas1/(n1*1.0)\n",
    "tes1"
   ]
  },
  {
   "cell_type": "code",
   "execution_count": 46,
   "metadata": {},
   "outputs": [],
   "source": [
    "lp1=sumaElementos1/(reloj)"
   ]
  },
  {
   "cell_type": "code",
   "execution_count": 47,
   "metadata": {},
   "outputs": [],
   "source": [
    "lp2=sumaElementos2/(reloj)"
   ]
  },
  {
   "cell_type": "code",
   "execution_count": 48,
   "metadata": {},
   "outputs": [
    {
     "name": "stdout",
     "output_type": "stream",
     "text": [
      "4.1251639090770125   5.874836090923066\n"
     ]
    }
   ],
   "source": [
    "print(lp1,\" \",lp2)"
   ]
  },
  {
   "cell_type": "code",
   "execution_count": 49,
   "metadata": {},
   "outputs": [
    {
     "name": "stdout",
     "output_type": "stream",
     "text": [
      "10.000000000000078\n"
     ]
    }
   ],
   "source": [
    "print(lp1+lp2)"
   ]
  },
  {
   "cell_type": "code",
   "execution_count": 50,
   "metadata": {},
   "outputs": [
    {
     "data": {
      "text/plain": [
       "18.4572064221907"
      ]
     },
     "execution_count": 50,
     "metadata": {},
     "output_type": "execute_result"
    }
   ],
   "source": [
    "sumatflujo/(n*1.0)"
   ]
  },
  {
   "cell_type": "code",
   "execution_count": 51,
   "metadata": {},
   "outputs": [
    {
     "data": {
      "text/plain": [
       "10"
      ]
     },
     "execution_count": 51,
     "metadata": {},
     "output_type": "execute_result"
    }
   ],
   "source": [
    "nelementos"
   ]
  },
  {
   "cell_type": "code",
   "execution_count": 52,
   "metadata": {},
   "outputs": [
    {
     "data": {
      "text/plain": [
       "[1, 1, 1, 1, 4, 1, 1, 1, 1, 1, 0, 1]"
      ]
     },
     "execution_count": 52,
     "metadata": {},
     "output_type": "execute_result"
    }
   ],
   "source": [
    "estado"
   ]
  },
  {
   "cell_type": "code",
   "execution_count": 53,
   "metadata": {},
   "outputs": [
    {
     "data": {
      "text/plain": [
       "1.8457315023944427"
      ]
     },
     "execution_count": 53,
     "metadata": {},
     "output_type": "execute_result"
    }
   ],
   "source": [
    "reloj/1000000 #promedio de tiempo en atencion"
   ]
  },
  {
   "cell_type": "code",
   "execution_count": 54,
   "metadata": {},
   "outputs": [
    {
     "data": {
      "text/plain": [
       "1845731.5023944427"
      ]
     },
     "execution_count": 54,
     "metadata": {},
     "output_type": "execute_result"
    }
   ],
   "source": [
    "reloj #tiempo total de la simulacion"
   ]
  },
  {
   "cell_type": "code",
   "execution_count": null,
   "metadata": {},
   "outputs": [],
   "source": []
  },
  {
   "cell_type": "code",
   "execution_count": null,
   "metadata": {},
   "outputs": [],
   "source": []
  },
  {
   "cell_type": "code",
   "execution_count": null,
   "metadata": {},
   "outputs": [],
   "source": []
  },
  {
   "cell_type": "code",
   "execution_count": null,
   "metadata": {},
   "outputs": [],
   "source": []
  },
  {
   "cell_type": "code",
   "execution_count": null,
   "metadata": {},
   "outputs": [],
   "source": []
  },
  {
   "cell_type": "code",
   "execution_count": null,
   "metadata": {},
   "outputs": [],
   "source": []
  }
 ],
 "metadata": {
  "kernelspec": {
   "display_name": "Python 3",
   "language": "python",
   "name": "python3"
  },
  "language_info": {
   "codemirror_mode": {
    "name": "ipython",
    "version": 3
   },
   "file_extension": ".py",
   "mimetype": "text/x-python",
   "name": "python",
   "nbconvert_exporter": "python",
   "pygments_lexer": "ipython3",
   "version": "3.6.6"
  }
 },
 "nbformat": 4,
 "nbformat_minor": 2
}
